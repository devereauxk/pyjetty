{
 "cells": [
  {
   "cell_type": "code",
   "execution_count": 1,
   "id": "painful-cutting",
   "metadata": {
    "scrolled": true
   },
   "outputs": [
    {
     "name": "stdout",
     "output_type": "stream",
     "text": [
      "Welcome to JupyROOT 6.22/08\n"
     ]
    },
    {
     "data": {
      "text/html": [
       "<style>div.output_scroll { height: 200em; }</style>"
      ],
      "text/plain": [
       "<IPython.core.display.HTML object>"
      ]
     },
     "metadata": {},
     "output_type": "display_data"
    }
   ],
   "source": [
    "from __future__ import absolute_import, division, print_function\n",
    "\n",
    "import ROOT\n",
    "import fastjet as fj\n",
    "import fjext\n",
    "import fjcontrib\n",
    "import fjtools\n",
    "\n",
    "import pythia8\n",
    "import pythiafjext\n",
    "import pythiaext\n",
    "from heppy.pythiautils import configuration as pyconf\n",
    "\n",
    "from tqdm.notebook import tqdm\n",
    "import argparse\n",
    "import os\n",
    "import sys\n",
    "\n",
    "# standard numerical library imports\n",
    "import numpy as np\n",
    "rng = np.random.RandomState(0)\n",
    "\n",
    "# matplotlib is required for this example\n",
    "import matplotlib.pyplot as plt\n",
    "plt.rcParams['figure.figsize'] = (10,9)\n",
    "from matplotlib import animation, rc\n",
    "\n",
    "from IPython.core.display import display, HTML\n",
    "display(HTML(\"<style>div.output_scroll { height: 200em; }</style>\"))"
   ]
  },
  {
   "cell_type": "code",
   "execution_count": 2,
   "id": "invisible-planet",
   "metadata": {
    "scrolled": true
   },
   "outputs": [],
   "source": [
    "def get_args_from_settings(ssettings):\n",
    "    sys.argv=[' '] + ssettings.split()\n",
    "    parser = argparse.ArgumentParser(description='pythia8 fastjet on the fly')\n",
    "    pyconf.add_standard_pythia_args(parser)\n",
    "    parser.add_argument('--output', default=\"test_ang_ue.root\", type=str)\n",
    "    parser.add_argument('--user-seed', help='pythia seed', default=1111, type=int)\n",
    "    args = parser.parse_args()\n",
    "    return args"
   ]
  },
  {
   "cell_type": "code",
   "execution_count": 3,
   "id": "novel-surveillance",
   "metadata": {
    "scrolled": true
   },
   "outputs": [
    {
     "name": "stdout",
     "output_type": "stream",
     "text": [
      "['HardQCD:all=on', 'PhaseSpace:bias2Selection=on', 'PhaseSpace:bias2SelectionPow=4', 'PhaseSpace:bias2SelectionRef=10', 'Beams:eCM = 5000.0']\n",
      "[i] strings read to PYTHIA  [['HardQCD:all=on', 'PhaseSpace:bias2Selection=on', 'PhaseSpace:bias2SelectionPow=4', 'PhaseSpace:bias2SelectionRef=10', 'Beams:eCM = 5000.0', 'Next:numberCount = 0', 'Next:numberShowEvent = 0', 'Next:numberShowInfo = 0', 'Next:numberShowProcess = 0', 'Stat:showProcessLevel = on']]\n",
      "[i] pythia initialized with ['HardQCD:all=on', 'PhaseSpace:bias2Selection=on', 'PhaseSpace:bias2SelectionPow=4', 'PhaseSpace:bias2SelectionRef=10', 'Beams:eCM = 5000.0', 'Next:numberCount = 0', 'Next:numberShowEvent = 0', 'Next:numberShowInfo = 0', 'Next:numberShowProcess = 0', 'Stat:showProcessLevel = on']\n",
      "\n",
      " *------------------------------------------------------------------------------------* \n",
      " |                                                                                    | \n",
      " |  *------------------------------------------------------------------------------*  | \n",
      " |  |                                                                              |  | \n",
      " |  |                                                                              |  | \n",
      " |  |   PPP   Y   Y  TTTTT  H   H  III    A      Welcome to the Lund Monte Carlo!  |  | \n",
      " |  |   P  P   Y Y     T    H   H   I    A A     This is PYTHIA version 8.244      |  | \n",
      " |  |   PPP     Y      T    HHHHH   I   AAAAA    Last date of change: 20 Dec 2019  |  | \n",
      " |  |   P       Y      T    H   H   I   A   A                                      |  | \n",
      " |  |   P       Y      T    H   H  III  A   A    Now is 30 Aug 2022 at 00:28:28    |  | \n",
      " |  |                                                                              |  | \n",
      " |  |   Christian Bierlich;  Department of Astronomy and Theoretical Physics,      |  | \n",
      " |  |      Lund University, Solvegatan 14A, SE-223 62 Lund, Sweden;                |  | \n",
      " |  |      e-mail: christian.bierlich@thep.lu.se                                   |  | \n",
      " |  |   Nishita Desai;  Department of Theoretical Physics, Tata Institute,         |  | \n",
      " |  |      Homi Bhabha Road, Mumbai 400005, India;                                 |  | \n",
      " |  |      e-mail: desai@theory.tifr.res.in                                        |  | \n",
      " |  |   Ilkka Helenius;  Department of Physics, University of Jyvaskyla,           |  | \n",
      " |  |      P.O. Box 35, FI-40014 University of Jyvaskyla, Finland;                 |  | \n",
      " |  |      e-mail: ilkka.m.helenius@jyu.fi                                         |  | \n",
      " |  |   Philip Ilten;  School of Physics and Astronomy,                            |  | \n",
      " |  |      University of Birmingham, Birmingham, B152 2TT, UK;                     |  | \n",
      " |  |      e-mail: philten@cern.ch                                                 |  | \n",
      " |  |   Leif Lonnblad;  Department of Astronomy and Theoretical Physics,           |  | \n",
      " |  |      Lund University, Solvegatan 14A, SE-223 62 Lund, Sweden;                |  | \n",
      " |  |      e-mail: leif.lonnblad@thep.lu.se                                        |  | \n",
      " |  |   Stephen Mrenna;  Computing Division, Simulations Group,                    |  | \n",
      " |  |      Fermi National Accelerator Laboratory, MS 234, Batavia, IL 60510, USA;  |  | \n",
      " |  |      e-mail: mrenna@fnal.gov                                                 |  | \n",
      " |  |   Stefan Prestel;  Department of Astronomy and Theoretical Physics,          |  | \n",
      " |  |      Lund University, Solvegatan 14A, SE-223 62 Lund, Sweden;                |  | \n",
      " |  |      e-mail: stefan.prestel@thep.lu.se                                       |  | \n",
      " |  |   Christine O. Rasmussen;  Department of Astronomy and Theoretical Physics,  |  | \n",
      " |  |      Lund University, Solvegatan 14A, SE-223 62 Lund, Sweden;                |  | \n",
      " |  |      e-mail: christine.rasmussen@thep.lu.se                                  |  | \n",
      " |  |   Torbjorn Sjostrand;  Department of Astronomy and Theoretical Physics,      |  | \n",
      " |  |      Lund University, Solvegatan 14A, SE-223 62 Lund, Sweden;                |  | \n",
      " |  |      e-mail: torbjorn@thep.lu.se                                             |  | \n",
      " |  |   Peter Skands;  School of Physics,                                          |  | \n",
      " |  |      Monash University, PO Box 27, 3800 Melbourne, Australia;                |  | \n",
      " |  |      e-mail: peter.skands@monash.edu                                         |  | \n",
      " |  |                                                                              |  | \n",
      " |  |   The main program reference is 'An Introduction to PYTHIA 8.2',             |  | \n",
      " |  |   T. Sjostrand et al, Comput. Phys. Commun. 191 (2015) 159                   |  | \n",
      " |  |   [arXiv:1410.3012 [hep-ph]]                                                 |  | \n",
      " |  |                                                                              |  | \n",
      " |  |   The main physics reference is the 'PYTHIA 6.4 Physics and Manual',         |  | \n",
      " |  |   T. Sjostrand, S. Mrenna and P. Skands, JHEP05 (2006) 026 [hep-ph/0603175]  |  | \n",
      " |  |                                                                              |  | \n",
      " |  |   An archive of program versions and documentation is found on the web:      |  | \n",
      " |  |   http://www.thep.lu.se/Pythia                                               |  | \n",
      " |  |                                                                              |  | \n",
      " |  |   This program is released under the GNU General Public Licence version 2.   |  | \n",
      " |  |   Please respect the MCnet Guidelines for Event Generator Authors and Users. |  | \n",
      " |  |                                                                              |  | \n",
      " |  |   Disclaimer: this program comes without any guarantees.                     |  | \n",
      " |  |   Beware of errors and use common sense when interpreting results.           |  | \n",
      " |  |                                                                              |  | \n",
      " |  |   Copyright (C) 2019 Torbjorn Sjostrand                                      |  | \n",
      " |  |                                                                              |  | \n",
      " |  |                                                                              |  | \n",
      " |  *------------------------------------------------------------------------------*  | \n",
      " |                                                                                    | \n",
      " *------------------------------------------------------------------------------------* \n",
      "\n",
      "\n",
      " *-------  PYTHIA Process Initialization  --------------------------*\n",
      " |                                                                  |\n",
      " | We collide p+ with p+ at a CM energy of 5.000e+03 GeV            |\n",
      " |                                                                  |\n",
      " |------------------------------------------------------------------|\n",
      " |                                                    |             |\n",
      " | Subprocess                                    Code |   Estimated |\n",
      " |                                                    |    max (mb) |\n",
      " |                                                    |             |\n",
      " |------------------------------------------------------------------|\n",
      " |                                                    |             |\n",
      " | g g -> g g                                     111 |   2.947e+02 |\n",
      " | g g -> q qbar (uds)                            112 |   8.767e+00 |\n",
      " | q g -> q g                                     113 |   6.694e+02 |\n",
      " | q q(bar)' -> q q(bar)'                         114 |   1.118e+02 |\n",
      " | q qbar -> g g                                  115 |   8.334e-01 |\n",
      " | q qbar -> q' qbar' (uds)                       116 |   7.388e-01 |\n",
      " | g g -> c cbar                                  121 |   2.775e+00 |\n",
      " | q qbar -> c cbar                               122 |   2.486e-01 |\n",
      " | g g -> b bbar                                  123 |   1.200e+00 |\n",
      " | q qbar -> b bbar                               124 |   1.147e-01 |\n",
      " |                                                                  |\n",
      " *-------  End PYTHIA Process Initialization -----------------------*\n",
      "\n",
      " *-------  PYTHIA Multiparton Interactions Initialization  ---------* \n",
      " |                                                                  | \n",
      " |                   sigmaNonDiffractive =    47.69 mb              | \n",
      " |                                                                  | \n",
      " |    pT0 =  2.12 gives sigmaInteraction =   208.57 mb: accepted    | \n",
      " |                                                                  | \n",
      " *-------  End PYTHIA Multiparton Interactions Initialization  -----* \n",
      "\n",
      " *-------  PYTHIA Flag + Mode + Parm + Word + FVec + MVec + PVec + WVec Settings (changes only)  ------------------* \n",
      " |                                                                                                                 | \n",
      " | Name                                          |                      Now |      Default         Min         Max | \n",
      " |                                               |                          |                                      | \n",
      " | Beams:eCM                                     |                 5000.000 |    14000.000    10.00000             | \n",
      " | HardQCD:all                                   |                       on |          off                         | \n",
      " | Next:numberCount                              |                        0 |         1000           0             | \n",
      " | Next:numberShowEvent                          |                        0 |            1           0             | \n",
      " | Next:numberShowInfo                           |                        0 |            1           0             | \n",
      " | Next:numberShowProcess                        |                        0 |            1           0             | \n",
      " | PhaseSpace:bias2Selection                     |                       on |          off                         | \n",
      " |                                                                                                                 | \n",
      " *-------  End PYTHIA Flag + Mode + Parm + Word + FVec + MVec + PVec + WVec Settings  -----------------------------* \n",
      "\n",
      " --------  PYTHIA Particle Data Table (changed only)  ------------------------------------------------------------------------------\n",
      " \n",
      "      id   name            antiName         spn chg col      m0        mWidth      mMin       mMax       tau0    res dec ext vis wid\n",
      "             no onMode   bRatio   meMode     products \n",
      "\n",
      " no particle data has been changed from its default value \n",
      "\n",
      " --------  End PYTHIA Particle Data Table  -----------------------------------------------------------------------------------------\n",
      "\n"
     ]
    }
   ],
   "source": [
    "mycfg = []\n",
    "ssettings = \"--py-ecm 5000 --user-seed=100000 --nev 1000\"\n",
    "args = get_args_from_settings(ssettings)\n",
    "pythia_hard = pyconf.create_and_init_pythia_from_args(args, mycfg)"
   ]
  },
  {
   "cell_type": "code",
   "execution_count": 4,
   "id": "possible-lender",
   "metadata": {},
   "outputs": [],
   "source": [
    "max_eta_hadron=2\n",
    "parts_selector_h = fj.SelectorAbsEtaMax(max_eta_hadron)\n",
    "jet_R0 = 0.4\n",
    "jet_selector = fj.SelectorPtMin(100.0) & fj.SelectorPtMax(105.0) & fj.SelectorAbsEtaMax(max_eta_hadron - 1.05 * jet_R0)"
   ]
  },
  {
   "cell_type": "code",
   "execution_count": 6,
   "id": "continent-converter",
   "metadata": {},
   "outputs": [
    {
     "name": "stdout",
     "output_type": "stream",
     "text": [
      "\n",
      "Longitudinally invariant anti-kt algorithm with R = 0.4 and E scheme recombination\n",
      "Longitudinally invariant anti-kt algorithm with R = 0.1 and E scheme recombination\n",
      "Longitudinally invariant anti-kt algorithm with R = 0.1 and E scheme recombination\n",
      "Longitudinally invariant anti-kt algorithm with R = 0.1 and E scheme recombination\n",
      "#--------------------------------------------------------------------------\n",
      "#                         FastJet release 3.3.3\n",
      "#                 M. Cacciari, G.P. Salam and G. Soyez                  \n",
      "#     A software package for jet finding and analysis at colliders      \n",
      "#                           http://fastjet.fr                           \n",
      "#\t                                                                      \n",
      "# Please cite EPJC72(2012)1896 [arXiv:1111.6097] if you use this package\n",
      "# for scientific work and optionally PLB641(2006)57 [hep-ph/0512210].   \n",
      "#                                                                       \n",
      "# FastJet is provided without warranty under the GNU GPL v2 or higher.  \n",
      "# It uses T. Chan's closest pair algorithm, S. Fortune's Voronoi code\n",
      "# and 3rd party plugin jet algorithms. See COPYING file for details.\n",
      "#--------------------------------------------------------------------------\n"
     ]
    }
   ],
   "source": [
    "# print the banner first\n",
    "fj.ClusterSequence.print_banner()\n",
    "print()\n",
    "# set up our jet definition and a jet selector\n",
    "jet_R0 = 0.4\n",
    "jet_def = fj.JetDefinition(fj.antikt_algorithm, jet_R0)\n",
    "print(jet_def)\n",
    "\n",
    "sj_rs = [0.1, 0.2, 0.3]\n",
    "sj_defs = []\n",
    "for r in sj_rs:\n",
    "    _sj_def = fj.JetDefinition(fj.antikt_algorithm, 0.1)\n",
    "    print(_sj_def)\n",
    "    sj_defs.append(_sj_def)\n"
   ]
  },
  {
   "cell_type": "code",
   "execution_count": 7,
   "id": "unusual-memphis",
   "metadata": {},
   "outputs": [],
   "source": [
    "def print_jet_constits(j):\n",
    "    print('[jet]', j.perp(), j.phi(), j.eta(), ':', [_c.user_index() for _c in j.constituents()])"
   ]
  },
  {
   "cell_type": "code",
   "execution_count": 8,
   "id": "detailed-romantic",
   "metadata": {},
   "outputs": [],
   "source": [
    "# for n in tqdm(range(args.nev)):\n",
    "def next_event():\n",
    "    subjets = []\n",
    "    while (1):\n",
    "        if not pythia_hard.next():\n",
    "            continue\n",
    "        parts_pythia_h = pythiafjext.vectorize_select(pythia_hard, [pythiafjext.kFinal], 0, False)\n",
    "        parts_pythia_h_selected = parts_selector_h(parts_pythia_h)\n",
    "        mult_hard = len(parts_pythia_h_selected)\n",
    "        jets_h = fj.sorted_by_pt(jet_selector(jet_def(parts_pythia_h_selected)))\n",
    "        if len(jets_h) < 1:\n",
    "            continue\n",
    "        j = jets_h[0]\n",
    "\n",
    "        #make the subjets\n",
    "        subjets.clear()\n",
    "        _accept_flag = True\n",
    "        for sj_def in sj_defs:\n",
    "            _sjets = fj.sorted_by_pt(sj_def(j.constituents()))\n",
    "            subjets.append(_sjets)\n",
    "            if len(_sjets) < 3:\n",
    "                _accept_flag = False\n",
    "        if _accept_flag is False:\n",
    "            continue\n",
    "\n",
    "        return j, subjets"
   ]
  },
  {
   "cell_type": "code",
   "execution_count": 9,
   "id": "severe-objective",
   "metadata": {},
   "outputs": [],
   "source": [
    "#j, jbg, jbgsub = next_event()\n",
    "#print_jet_constits(j)\n",
    "#print_jet_constits(jbg)\n",
    "#print_jet_constits(jbgsub)"
   ]
  },
  {
   "cell_type": "code",
   "execution_count": 10,
   "id": "encouraging-personal",
   "metadata": {},
   "outputs": [],
   "source": [
    "def draw_jet(j):\n",
    "    # for the jet but not subjets\n",
    "    pts = [p.perp() for p in fj.sorted_by_pt(j.constituents())]\n",
    "    ys = [j.rapidity() - p.rapidity() for p in fj.sorted_by_pt(j.constituents())]\n",
    "    phis = [j.delta_phi_to(p) for p in fj.sorted_by_pt(j.constituents())]\n",
    "    \n",
    "    phis.append(jet_R0)\n",
    "    phis.append(-jet_R0)\n",
    "    ys.append(jet_R0)\n",
    "    ys.append(-jet_R0)\n",
    "    pts.append(0)\n",
    "    pts.append(0)\n",
    "    zs = [pt/j.perp() for pt in pts]\n",
    "    zs_sized = [z*1000. for z in zs]\n",
    "    cs = [int(z*100.) for z in zs]\n",
    "\n",
    "    plt.figure()\n",
    "    # plt.scatter(phis, ys, c=colors, s=zs_sized, alpha=0.4, cmap=\"PuOr\") #cmap='viridis')\n",
    "    plt.scatter(phis, ys, c=cs, s=zs_sized, alpha=0.4, cmap=\"magma\") #cmap='viridis')\n",
    "    \n",
    "    plt.xlabel('phi')\n",
    "    plt.ylabel('y')\n",
    "    plt.colorbar();  # show color scale\n",
    "    plt.show()\n",
    "    #plt.rcdefaults()"
   ]
  },
  {
   "cell_type": "code",
   "execution_count": 24,
   "id": "infrared-campaign",
   "metadata": {},
   "outputs": [],
   "source": [
    "def draw_subjets(j, scale_pt=0, sj_r = 0.1):\n",
    "    sj_def = fj.JetDefinition(fj.antikt_algorithm, sj_r)\n",
    "    sjs = fj.sorted_by_pt(sj_def(j.constituents()))\n",
    "    # for subjets\n",
    "    pts = []\n",
    "    ys = []\n",
    "    phis = []\n",
    "    cs = []\n",
    "    for i,sj in enumerate(sjs):\n",
    "        sc = fj.sorted_by_pt(sj.constituents())\n",
    "        pts.extend([p.perp() for p in sc])\n",
    "        ys.extend([j.rapidity() - p.rapidity() for p in sc])\n",
    "        phis.extend([j.delta_phi_to(p) for p in sc])\n",
    "        if i == 0:\n",
    "            for p in sc:\n",
    "                cs.append([1,0,0,0.3])\n",
    "        else:\n",
    "            gr_scale = (len(sjs)-i)/len(sjs)\n",
    "            gr_col = 0.4-0.3*gr_scale\n",
    "            # print(gr_col)\n",
    "            for p in sc:\n",
    "                cs.append([gr_col, gr_col, gr_col, 0.9])\n",
    "    \n",
    "    phis.append(jet_R0)\n",
    "    phis.append(-jet_R0)\n",
    "    ys.append(jet_R0)\n",
    "    ys.append(-jet_R0)\n",
    "    pts.append(0)\n",
    "    pts.append(0)\n",
    "    if scale_pt == 0:\n",
    "        scale_pt = j.perp()\n",
    "    zs = [pt/scale_pt for pt in pts]\n",
    "    zs_sized = [z*1000. for z in zs]\n",
    "    cs.append([0,0,0,0])\n",
    "    cs.append([0,0,0,0])\n",
    "\n",
    "    fig = plt.figure()\n",
    "    # plt.scatter(phis, ys, c=colors, s=zs_sized, alpha=0.4, cmap=\"PuOr\") #cmap='viridis')\n",
    "    # plt.scatter(phis, ys, c=cs, s=zs_sized, alpha=0.4, cmap=\"magma\") #cmap='viridis')\n",
    "    plt.scatter(phis, ys, c=cs, s=zs_sized, alpha=0.4, cmap=\"magma\") #cmap='viridis')\n",
    "    \n",
    "    plt.xlabel(r\"$\\Delta\\varphi$\")\n",
    "    plt.ylabel(r\"$\\Delta y$\")\n",
    "    # plt.colorbar();  # show color scale\n",
    "    import matplotlib.lines as mlines\n",
    "    line = mlines.Line2D([0, jet_R0], [0, jet_R0], color='red')\n",
    "    ax = fig.axes[0]\n",
    "    transform = ax.transAxes\n",
    "    line.set_transform(transform)\n",
    "    ax.add_line(line)\n",
    "    # fig.add_artist(line)\n",
    "    plt.show()\n",
    "    print(j.perp(), sjs[0].perp(), sjs[0].perp()/j.perp())\n",
    "    # plt.rcdefaults()\n"
   ]
  },
  {
   "cell_type": "code",
   "execution_count": 26,
   "id": "determined-raise",
   "metadata": {},
   "outputs": [
    {
     "data": {
      "image/png": "[encoded data removed]",
      "text/plain": [
       "<Figure size 720x648 with 1 Axes>"
      ]
     },
     "metadata": {
      "needs_background": "light"
     },
     "output_type": "display_data"
    },
    {
     "name": "stdout",
     "output_type": "stream",
     "text": [
      "100.12067242446162 76.3638883003151 0.7627184921069085\n"
     ]
    },
    {
     "data": {
      "image/png": "[encoded data removed]",
      "text/plain": [
       "<Figure size 720x648 with 1 Axes>"
      ]
     },
     "metadata": {
      "needs_background": "light"
     },
     "output_type": "display_data"
    },
    {
     "name": "stdout",
     "output_type": "stream",
     "text": [
      "100.12067242446162 96.22516523112316 0.9610918794390088\n"
     ]
    },
    {
     "data": {
      "image/png": "[encoded data removed]",
      "text/plain": [
       "<Figure size 720x648 with 1 Axes>"
      ]
     },
     "metadata": {
      "needs_background": "light"
     },
     "output_type": "display_data"
    },
    {
     "name": "stdout",
     "output_type": "stream",
     "text": [
      "100.12067242446162 98.07469343793532 0.9795648697019097\n",
      " PYTHIA Error in SimpleSpaceShower::pT2nearThreshold: stuck in loop  \n"
     ]
    }
   ],
   "source": [
    "for n in range(1):\n",
    "    j, subjets = next_event()\n",
    "    # draw_jet(j)\n",
    "    for sj_r in sj_rs:\n",
    "        draw_subjets(j, j.perp()/4., sj_r)\n"
   ]
  },
  {
   "cell_type": "code",
   "execution_count": 15,
   "id": "daily-subscriber",
   "metadata": {},
   "outputs": [
    {
     "name": "stdout",
     "output_type": "stream",
     "text": [
      "\n",
      " *-------  PYTHIA Event and Cross Section Statistics  -------------------------------------------------------------*\n",
      " |                                                                                                                 |\n",
      " | Subprocess                                    Code |            Number of events       |      sigma +- delta    |\n",
      " |                                                    |       Tried   Selected   Accepted |     (estimated) (mb)   |\n",
      " |                                                    |                                   |                        |\n",
      " |-----------------------------------------------------------------------------------------------------------------|\n",
      " |                                                    |                                   |                        |\n",
      " | g g -> g g                                     111 |        2494        137        137 |   5.873e+02  1.733e+01 |\n",
      " | g g -> q qbar (uds)                            112 |          74          3          3 |   5.917e+00  1.219e+00 |\n",
      " | q g -> q g                                     113 |        5469        138        138 |   3.443e+02  9.415e+00 |\n",
      " | q q(bar)' -> q q(bar)'                         114 |         941         18         18 |   5.070e+01  3.272e+00 |\n",
      " | q qbar -> g g                                  115 |          10          0          0 |   0.000e+00  0.000e+00 |\n",
      " | q qbar -> q' qbar' (uds)                       116 |           4          1          1 |   1.299e-01  1.299e-01 |\n",
      " | g g -> c cbar                                  121 |          27          1          1 |   1.796e+00  1.796e+00 |\n",
      " | q qbar -> c cbar                               122 |           4          0          0 |   0.000e+00  0.000e+00 |\n",
      " | g g -> b bbar                                  123 |          10          2          2 |   5.815e-02  3.677e-02 |\n",
      " | q qbar -> b bbar                               124 |           0          0          0 |   0.000e+00  0.000e+00 |\n",
      " |                                                    |                                   |                        |\n",
      " | sum                                                |        9033        300        300 |   9.901e+02  2.011e+01 |\n",
      " |                                                                                                                 |\n",
      " *-------  End PYTHIA Event and Cross Section Statistics ----------------------------------------------------------*\n",
      "\n",
      " *-------  PYTHIA Error and Warning Messages Statistics  ----------------------------------------------------------* \n",
      " |                                                                                                                 | \n",
      " |  times   message                                                                                                | \n",
      " |                                                                                                                 | \n",
      " |      5   Warning in StringFragmentation::fragmentToJunction: bad convergence junction rest frame                | \n",
      " |                                                                                                                 | \n",
      " *-------  End PYTHIA Error and Warning Messages Statistics  ------------------------------------------------------* \n"
     ]
    }
   ],
   "source": [
    "pythia_hard.stat()"
   ]
  },
  {
   "cell_type": "markdown",
   "id": "1fedfe6c",
   "metadata": {},
   "source": [
    "# voronoi diagrams\n",
    "- consider adding the same but with the voronoi diagram marking (stop at R=jet_R0)"
   ]
  },
  {
   "cell_type": "markdown",
   "id": "ff490108",
   "metadata": {},
   "source": []
  }
 ],
 "metadata": {
  "kernelspec": {
   "display_name": "Python 3.9.8 64-bit",
   "language": "python",
   "name": "python3"
  },
  "language_info": {
   "codemirror_mode": {
    "name": "ipython",
    "version": 3
   },
   "file_extension": ".py",
   "mimetype": "text/x-python",
   "name": "python",
   "nbconvert_exporter": "python",
   "pygments_lexer": "ipython3",
   "version": "3.9.8"
  },
  "vscode": {
   "interpreter": {
    "hash": "aee8b7b246df8f9039afb4144a1f6fd8d2ca17a180786b69acc140d282b71a49"
   }
  }
 },
 "nbformat": 4,
 "nbformat_minor": 5
}
